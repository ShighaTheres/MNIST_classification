{
 "cells": [
  {
   "cell_type": "code",
   "execution_count": 1,
   "id": "d8f8fbd1",
   "metadata": {},
   "outputs": [],
   "source": [
    "#Import Packages\n",
    "import numpy as np\n",
    "import pandas as pd\n",
    "import matplotlib.pyplot as plt\n",
    "import tensorflow as tf\n",
    "from tensorflow import keras"
   ]
  },
  {
   "cell_type": "code",
   "execution_count": 2,
   "id": "10081030",
   "metadata": {},
   "outputs": [],
   "source": [
    "dataset = keras.datasets.mnist"
   ]
  },
  {
   "cell_type": "code",
   "execution_count": 3,
   "id": "e732cb3d",
   "metadata": {},
   "outputs": [],
   "source": [
    "(X_train,y_train),(X_test,y_test)=dataset.load_data()"
   ]
  },
  {
   "cell_type": "code",
   "execution_count": 4,
   "id": "61bfae8a",
   "metadata": {},
   "outputs": [
    {
     "data": {
      "text/plain": [
       "(60000, 28, 28)"
      ]
     },
     "execution_count": 4,
     "metadata": {},
     "output_type": "execute_result"
    }
   ],
   "source": [
    "X_train.shape"
   ]
  },
  {
   "cell_type": "code",
   "execution_count": 5,
   "id": "6c0404c2",
   "metadata": {},
   "outputs": [
    {
     "data": {
      "text/plain": [
       "(10000, 28, 28)"
      ]
     },
     "execution_count": 5,
     "metadata": {},
     "output_type": "execute_result"
    }
   ],
   "source": [
    "X_test.shape"
   ]
  },
  {
   "cell_type": "code",
   "execution_count": 6,
   "id": "4c334e4d",
   "metadata": {},
   "outputs": [
    {
     "data": {
      "text/plain": [
       "(60000,)"
      ]
     },
     "execution_count": 6,
     "metadata": {},
     "output_type": "execute_result"
    }
   ],
   "source": [
    "y_train.shape"
   ]
  },
  {
   "cell_type": "code",
   "execution_count": 7,
   "id": "1f19c8b2",
   "metadata": {},
   "outputs": [
    {
     "data": {
      "image/png": "[encoded data removed]",
      "text/plain": [
       "<Figure size 432x288 with 1 Axes>"
      ]
     },
     "metadata": {
      "needs_background": "light"
     },
     "output_type": "display_data"
    }
   ],
   "source": [
    "X_train[50] #gray scale --> 0 to 255\n",
    "plt.imshow(X_train[50],cmap='binary')\n",
    "plt.show()"
   ]
  },
  {
   "cell_type": "code",
   "execution_count": 8,
   "id": "90b6cc91",
   "metadata": {},
   "outputs": [
    {
     "data": {
      "text/plain": [
       "3"
      ]
     },
     "execution_count": 8,
     "metadata": {},
     "output_type": "execute_result"
    }
   ],
   "source": [
    "y_train[50]"
   ]
  },
  {
   "cell_type": "code",
   "execution_count": 9,
   "id": "3b732823",
   "metadata": {},
   "outputs": [],
   "source": [
    "#Preprocessing \n",
    "X_train = X_train.reshape(60000,28*28) #flatten\n",
    "#Scaling : (0 to 255) to (0 to 1)\n",
    "X_train = X_train.astype('float32')/255"
   ]
  },
  {
   "cell_type": "code",
   "execution_count": 10,
   "id": "118c2bc1",
   "metadata": {},
   "outputs": [],
   "source": [
    "#Preprocessing \n",
    "X_test = X_test.reshape(10000,28*28) #flatten\n",
    "#Scaling : (0 to 255) to (0 to 1)\n",
    "X_test = X_test.astype('float32')/255"
   ]
  },
  {
   "cell_type": "code",
   "execution_count": 11,
   "id": "615561fc",
   "metadata": {},
   "outputs": [
    {
     "data": {
      "text/plain": [
       "(60000, 784)"
      ]
     },
     "execution_count": 11,
     "metadata": {},
     "output_type": "execute_result"
    }
   ],
   "source": [
    "X_train.shape"
   ]
  },
  {
   "cell_type": "code",
   "execution_count": 12,
   "id": "e5cd55fe",
   "metadata": {},
   "outputs": [],
   "source": [
    "#Sequential API\n",
    "dnn = keras.models.Sequential() #obj_name = Class_name"
   ]
  },
  {
   "cell_type": "code",
   "execution_count": 13,
   "id": "e4bbae20",
   "metadata": {},
   "outputs": [],
   "source": [
    "dnn.add(keras.layers.Dense(50,activation='relu',input_shape = X_train.shape[1:] ))"
   ]
  },
  {
   "cell_type": "code",
   "execution_count": 14,
   "id": "90ec52b6",
   "metadata": {},
   "outputs": [],
   "source": [
    "dnn.add(keras.layers.Dense(30,activation='relu'))"
   ]
  },
  {
   "cell_type": "code",
   "execution_count": 15,
   "id": "63ca9fdc",
   "metadata": {},
   "outputs": [],
   "source": [
    "dnn.add(keras.layers.Dense(10,activation='softmax')) #softmax --> outputs probabilities , 0.8 for class, "
   ]
  },
  {
   "cell_type": "code",
   "execution_count": 16,
   "id": "1a506b55",
   "metadata": {},
   "outputs": [
    {
     "name": "stdout",
     "output_type": "stream",
     "text": [
      "Model: \"sequential\"\n",
      "_________________________________________________________________\n",
      "Layer (type)                 Output Shape              Param #   \n",
      "=================================================================\n",
      "dense (Dense)                (None, 50)                39250     \n",
      "_________________________________________________________________\n",
      "dense_1 (Dense)              (None, 30)                1530      \n",
      "_________________________________________________________________\n",
      "dense_2 (Dense)              (None, 10)                310       \n",
      "=================================================================\n",
      "Total params: 41,090\n",
      "Trainable params: 41,090\n",
      "Non-trainable params: 0\n",
      "_________________________________________________________________\n"
     ]
    }
   ],
   "source": [
    "dnn.summary() #784 + 1(bias) * 50 =785*50"
   ]
  },
  {
   "cell_type": "code",
   "execution_count": 17,
   "id": "d433c600",
   "metadata": {},
   "outputs": [],
   "source": [
    "dnn.compile(loss='sparse_categorical_crossentropy', optimizer='adam', metrics=['accuracy'])"
   ]
  },
  {
   "cell_type": "code",
   "execution_count": 18,
   "id": "fad69c7e",
   "metadata": {},
   "outputs": [
    {
     "name": "stdout",
     "output_type": "stream",
     "text": [
      "Epoch 1/10\n",
      "3375/3375 [==============================] - 6s 2ms/step - loss: 0.2907 - accuracy: 0.9139 - val_loss: 0.1309 - val_accuracy: 0.9620\n",
      "Epoch 2/10\n",
      "3375/3375 [==============================] - 6s 2ms/step - loss: 0.1423 - accuracy: 0.9573 - val_loss: 0.1137 - val_accuracy: 0.9650\n",
      "Epoch 3/10\n",
      "3375/3375 [==============================] - 6s 2ms/step - loss: 0.1083 - accuracy: 0.9668 - val_loss: 0.0962 - val_accuracy: 0.9698\n",
      "Epoch 4/10\n",
      "3375/3375 [==============================] - 6s 2ms/step - loss: 0.0892 - accuracy: 0.9720 - val_loss: 0.0991 - val_accuracy: 0.9715\n",
      "Epoch 5/10\n",
      "3375/3375 [==============================] - 6s 2ms/step - loss: 0.0754 - accuracy: 0.9760 - val_loss: 0.1016 - val_accuracy: 0.9712\n",
      "Epoch 6/10\n",
      "3375/3375 [==============================] - 6s 2ms/step - loss: 0.0643 - accuracy: 0.9791 - val_loss: 0.1051 - val_accuracy: 0.9690\n",
      "Epoch 7/10\n",
      "3375/3375 [==============================] - 6s 2ms/step - loss: 0.0567 - accuracy: 0.9821 - val_loss: 0.0942 - val_accuracy: 0.9712\n",
      "Epoch 8/10\n",
      "3375/3375 [==============================] - 6s 2ms/step - loss: 0.0491 - accuracy: 0.9838 - val_loss: 0.1004 - val_accuracy: 0.9743\n",
      "Epoch 9/10\n",
      "3375/3375 [==============================] - 6s 2ms/step - loss: 0.0453 - accuracy: 0.9851 - val_loss: 0.0979 - val_accuracy: 0.9725\n",
      "Epoch 10/10\n",
      "3375/3375 [==============================] - 6s 2ms/step - loss: 0.0398 - accuracy: 0.9869 - val_loss: 0.1006 - val_accuracy: 0.9755\n"
     ]
    }
   ],
   "source": [
    "#Training\n",
    "history_dnn = dnn.fit(x=X_train,y=y_train, validation_split=0.1, epochs=10,batch_size=16)"
   ]
  },
  {
   "cell_type": "code",
   "execution_count": 19,
   "id": "8730a10d",
   "metadata": {},
   "outputs": [
    {
     "data": {
      "image/png": "[encoded data removed]",
      "text/plain": [
       "<Figure size 432x288 with 1 Axes>"
      ]
     },
     "metadata": {
      "needs_background": "light"
     },
     "output_type": "display_data"
    }
   ],
   "source": [
    "pd.DataFrame(history_dnn.history).plot()\n",
    "plt.xlabel(\"Iteration\")\n",
    "plt.show()"
   ]
  },
  {
   "cell_type": "code",
   "execution_count": 20,
   "id": "3de3351f",
   "metadata": {},
   "outputs": [
    {
     "name": "stdout",
     "output_type": "stream",
     "text": [
      "313/313 [==============================] - 0s 2ms/step - loss: 0.1097 - accuracy: 0.9730\n"
     ]
    }
   ],
   "source": [
    "#Testing\n",
    "test_loss, test_accuracy =   dnn.evaluate(x=X_test,y=y_test)"
   ]
  },
  {
   "cell_type": "code",
   "execution_count": 21,
   "id": "aaf6b11f",
   "metadata": {},
   "outputs": [
    {
     "data": {
      "text/plain": [
       "0"
      ]
     },
     "execution_count": 21,
     "metadata": {},
     "output_type": "execute_result"
    }
   ],
   "source": [
    "y_test[13]"
   ]
  },
  {
   "cell_type": "code",
   "execution_count": 22,
   "id": "075d7fcf",
   "metadata": {},
   "outputs": [
    {
     "data": {
      "text/plain": [
       "array([[9.9968636e-01, 1.3978288e-07, 1.8586761e-04, 1.7397214e-08,\n",
       "        1.2882631e-06, 1.9372160e-06, 7.6078340e-06, 1.0783157e-04,\n",
       "        4.3869145e-06, 4.5024317e-06]], dtype=float32)"
      ]
     },
     "execution_count": 22,
     "metadata": {},
     "output_type": "execute_result"
    }
   ],
   "source": [
    "dnn.predict(X_test[13].reshape(1,784))"
   ]
  },
  {
   "cell_type": "code",
   "execution_count": 23,
   "id": "f866d5bb",
   "metadata": {},
   "outputs": [
    {
     "data": {
      "text/plain": [
       "0"
      ]
     },
     "execution_count": 23,
     "metadata": {},
     "output_type": "execute_result"
    }
   ],
   "source": [
    "np.argmax( dnn.predict(X_test[13].reshape(1,784)) )"
   ]
  },
  {
   "cell_type": "code",
   "execution_count": null,
   "id": "78400329",
   "metadata": {},
   "outputs": [],
   "source": []
  }
 ],
 "metadata": {
  "kernelspec": {
   "display_name": "Python 3",
   "language": "python",
   "name": "python3"
  },
  "language_info": {
   "codemirror_mode": {
    "name": "ipython",
    "version": 3
   },
   "file_extension": ".py",
   "mimetype": "text/x-python",
   "name": "python",
   "nbconvert_exporter": "python",
   "pygments_lexer": "ipython3",
   "version": "3.8.8"
  }
 },
 "nbformat": 4,
 "nbformat_minor": 5
}
